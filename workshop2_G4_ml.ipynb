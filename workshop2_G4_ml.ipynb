{
 "cells": [
  {
   "cell_type": "markdown",
   "id": "9b8d7740",
   "metadata": {},
   "source": [
    "# WORKSHOP 2\n",
    "\n",
    "------------\n",
    "\n",
    "**<u>GRUPO 4<u>**\n",
    "\n",
    "Digital House\n",
    "\n",
    "link git hub: https://github.com/grupo4dhds/grupo4_git.git\n",
    "\n",
    "--------------\n",
    "\n",
    "## CONTENIDO\n"
   ]
  },
  {
   "cell_type": "code",
   "execution_count": null,
   "id": "e18c7f9c",
   "metadata": {},
   "outputs": [],
   "source": []
  },
  {
   "cell_type": "code",
   "execution_count": 1,
   "id": "ef3b5310",
   "metadata": {},
   "outputs": [],
   "source": [
    "import numpy as np\n",
    "import pandas as pd\n",
    "\n",
    "import seaborn as sns\n",
    "import matplotlib.pyplot as plt\n",
    "%matplotlib inline\n",
    "\n",
    "from sklearn.linear_model import LinearRegression"
   ]
  },
  {
   "cell_type": "code",
   "execution_count": 2,
   "id": "b6c3721d",
   "metadata": {},
   "outputs": [
    {
     "data": {
      "text/plain": [
       "11998"
      ]
     },
     "execution_count": 2,
     "metadata": {},
     "output_type": "execute_result"
    }
   ],
   "source": [
    "data = pd.read_csv('data_apartment_5_final.csv')\n",
    "\n",
    "columnas = ['oldIndex', 'prop_type', 'place', 'state', 'price','currency', 'sup_total', 'sup_cov', 'price_m2', 'cat_place', 'floor', 'rooms', 'expenses', 'regex1', 'regex2', 'direccion', 'above_mean']\n",
    "columnas_notna_1 = ['prop_type', 'place', 'state' , 'price', 'currency', 'price_m2', 'cat_place', 'above_mean']\n",
    "columnas_nan_1 = ['sup_total', 'sup_cov', 'floor', 'rooms', 'expenses', 'regex1', 'regex2', 'direccion']\n",
    "data.columns = columnas\n",
    "\n",
    "data['sup_total_pow2'] = data.sup_total * data.sup_total\n",
    "data['sup_descubierta'] = data.sup_total - data.sup_cov\n",
    "data['sup_descubierta_pct'] = data.sup_descubierta / data.sup_total *100\n",
    "\n",
    "columnas_nan_2 = ['sup_total_pow2', 'sup_descubierta', 'sup_descubierta_pct']\n",
    "\n",
    "mask = data[columnas_nan_2].notna().all(axis=1)\n",
    "\n",
    "#dummy_place = pd.get_dummies(data['cat_place'], drop_first=True)\n",
    "#dummy_place;\n",
    "\n",
    "#Dicto = {}\n",
    "#Dicto['data'] = data.to_dict()\n",
    "#Dicto['dummy_place'] = dummy_place.to_dict()\n",
    "\n",
    "data\n",
    "mask.sum()"
   ]
  },
  {
   "cell_type": "code",
   "execution_count": 3,
   "id": "10433b53",
   "metadata": {},
   "outputs": [
    {
     "name": "stdout",
     "output_type": "stream",
     "text": [
      "0                oldIndex\n",
      "1               prop_type\n",
      "2                   place\n",
      "3                   state\n",
      "4                   price\n",
      "5                currency\n",
      "6               sup_total\n",
      "7                 sup_cov\n",
      "8                price_m2\n",
      "9               cat_place\n",
      "10                  floor\n",
      "11                  rooms\n",
      "12               expenses\n",
      "13                 regex1\n",
      "14                 regex2\n",
      "15              direccion\n",
      "16             above_mean\n",
      "17         sup_total_pow2\n",
      "18        sup_descubierta\n",
      "19    sup_descubierta_pct\n"
     ]
    }
   ],
   "source": [
    "print (pd.Series(data.columns).to_string())"
   ]
  },
  {
   "cell_type": "code",
   "execution_count": 4,
   "id": "a6ca1839",
   "metadata": {},
   "outputs": [
    {
     "ename": "NameError",
     "evalue": "name 'dummy_place' is not defined",
     "output_type": "error",
     "traceback": [
      "\u001b[1;31m---------------------------------------------------------------------------\u001b[0m",
      "\u001b[1;31mNameError\u001b[0m                                 Traceback (most recent call last)",
      "\u001b[1;32m~\\AppData\\Local\\Temp/ipykernel_1104/249163821.py\u001b[0m in \u001b[0;36m<module>\u001b[1;34m\u001b[0m\n\u001b[0;32m      9\u001b[0m \u001b[0mfeatures\u001b[0m \u001b[1;33m=\u001b[0m \u001b[1;33m[\u001b[0m\u001b[1;34m'sup_total'\u001b[0m\u001b[1;33m,\u001b[0m \u001b[1;34m'sup_total_pow2'\u001b[0m\u001b[1;33m,\u001b[0m \u001b[1;34m'sup_descubierta_pct'\u001b[0m\u001b[1;33m,\u001b[0m \u001b[1;34m'above_mean'\u001b[0m\u001b[1;33m]\u001b[0m\u001b[1;33m\u001b[0m\u001b[1;33m\u001b[0m\u001b[0m\n\u001b[0;32m     10\u001b[0m \u001b[0mX\u001b[0m \u001b[1;33m=\u001b[0m \u001b[0mdata\u001b[0m\u001b[1;33m[\u001b[0m\u001b[0mfeatures\u001b[0m\u001b[1;33m]\u001b[0m\u001b[1;33m\u001b[0m\u001b[1;33m\u001b[0m\u001b[0m\n\u001b[1;32m---> 11\u001b[1;33m \u001b[0mX\u001b[0m \u001b[1;33m=\u001b[0m \u001b[0mpd\u001b[0m\u001b[1;33m.\u001b[0m\u001b[0mconcat\u001b[0m\u001b[1;33m(\u001b[0m\u001b[1;33m[\u001b[0m\u001b[0mX\u001b[0m\u001b[1;33m,\u001b[0m\u001b[0mdummy_place\u001b[0m\u001b[1;33m]\u001b[0m\u001b[1;33m,\u001b[0m \u001b[0maxis\u001b[0m\u001b[1;33m=\u001b[0m\u001b[1;36m1\u001b[0m\u001b[1;33m)\u001b[0m\u001b[1;33m\u001b[0m\u001b[1;33m\u001b[0m\u001b[0m\n\u001b[0m\u001b[0;32m     12\u001b[0m \u001b[1;31m#X = X.dropna()\u001b[0m\u001b[1;33m\u001b[0m\u001b[1;33m\u001b[0m\u001b[1;33m\u001b[0m\u001b[0m\n\u001b[0;32m     13\u001b[0m \u001b[0my\u001b[0m \u001b[1;33m=\u001b[0m \u001b[0mdata\u001b[0m\u001b[1;33m.\u001b[0m\u001b[0mprice\u001b[0m\u001b[1;33m\u001b[0m\u001b[1;33m\u001b[0m\u001b[0m\n",
      "\u001b[1;31mNameError\u001b[0m: name 'dummy_place' is not defined"
     ]
    }
   ],
   "source": [
    "# 1. Seleccion de la clase de modelo\n",
    "from sklearn.linear_model import LinearRegression\n",
    "\n",
    "# 2. Elegir los hiperparámetros del modelo\n",
    "linreg = LinearRegression(normalize=True) # False: default but then change to True and see changes\n",
    "\n",
    "#3. Preparar los datos en una matriz de features, y un vector target\n",
    "\n",
    "features = ['sup_total', 'sup_total_pow2', 'sup_descubierta_pct', 'above_mean']\n",
    "X = data[features]\n",
    "X = pd.concat([X,dummy_place], axis=1)\n",
    "#X = X.dropna()\n",
    "\n",
    "y = data.price\n",
    "y = y[y.index.intersection(X.index)]\n",
    "\n",
    "#4. Separar los sets de entrenamiento y de testing\n",
    "from sklearn.model_selection import train_test_split\n",
    "Xtrain, Xtest, ytrain, ytest = train_test_split(X, y, random_state=1)\n",
    "\n",
    "#5. Ajustar el modelo a los datos de entrenamiento\n",
    "linreg.fit(Xtrain, ytrain)\n",
    "\n",
    "#6. Predecir etiquetas para datos desconocidos\n",
    "y_pred = linreg.predict(Xtest)\n",
    "\n",
    "#7. Evaluar la perfomance del modelo\n",
    "\n",
    "from sklearn import metrics\n",
    "\n",
    "print ('MAE:', metrics.mean_absolute_error(ytest, y_pred))\n",
    "print ('MSE:', metrics.mean_squared_error(ytest, y_pred))\n",
    "print ('RMSE:', np.sqrt(metrics.mean_squared_error(ytest, y_pred)))\n",
    "print ('R2:', metrics.r2_score(ytest, y_pred))"
   ]
  },
  {
   "cell_type": "code",
   "execution_count": 10,
   "id": "24e41636",
   "metadata": {},
   "outputs": [
    {
     "ename": "AttributeError",
     "evalue": "module 'statsmodels.api' has no attribute 'fittedvalues'",
     "output_type": "error",
     "traceback": [
      "\u001b[1;31m---------------------------------------------------------------------------\u001b[0m",
      "\u001b[1;31mAttributeError\u001b[0m                            Traceback (most recent call last)",
      "\u001b[1;32m~\\AppData\\Local\\Temp/ipykernel_1104/3602794226.py\u001b[0m in \u001b[0;36m<module>\u001b[1;34m\u001b[0m\n\u001b[0;32m      2\u001b[0m \u001b[1;31m#help(LinearRegression)\u001b[0m\u001b[1;33m\u001b[0m\u001b[1;33m\u001b[0m\u001b[1;33m\u001b[0m\u001b[0m\n\u001b[0;32m      3\u001b[0m \u001b[1;31m#help(LinearRegression.predict)\u001b[0m\u001b[1;33m\u001b[0m\u001b[1;33m\u001b[0m\u001b[1;33m\u001b[0m\u001b[0m\n\u001b[1;32m----> 4\u001b[1;33m \u001b[0mhelp\u001b[0m\u001b[1;33m(\u001b[0m\u001b[0msm\u001b[0m\u001b[1;33m.\u001b[0m\u001b[0mfittedvalues\u001b[0m\u001b[1;33m)\u001b[0m\u001b[1;33m\u001b[0m\u001b[1;33m\u001b[0m\u001b[0m\n\u001b[0m\u001b[0;32m      5\u001b[0m \"\"\"\n\u001b[0;32m      6\u001b[0m     \u001b[0mVALORES\u001b[0m \u001b[0mCON\u001b[0m \u001b[0mvalor\u001b[0m\u001b[1;33m=\u001b[0m\u001b[1;36m84\u001b[0m\u001b[1;33m,\u001b[0m \u001b[0mvalor\u001b[0m\u001b[1;33m:\u001b[0m \u001b[0mcantidad\u001b[0m \u001b[0mde\u001b[0m \u001b[0mpublicaciones\u001b[0m \u001b[0mminimas\u001b[0m \u001b[0mpara\u001b[0m \u001b[0mconservar\u001b[0m \u001b[0mplace_name\u001b[0m\u001b[1;33m\u001b[0m\u001b[1;33m\u001b[0m\u001b[0m\n",
      "\u001b[1;31mAttributeError\u001b[0m: module 'statsmodels.api' has no attribute 'fittedvalues'"
     ]
    }
   ],
   "source": [
    "import statsmodels.api as sm\n",
    "#help(LinearRegression)\n",
    "#help(LinearRegression.predict)\n",
    "help(sm.fittedvalues)\n",
    "\"\"\"\n",
    "    VALORES CON valor=84, valor: cantidad de publicaciones minimas para conservar place_name\n",
    "Normalize: False\n",
    "MAE: 26388.597029743163\n",
    "MSE: 1290767140.9256575\n",
    "RMSE: 35927.247889668055\n",
    "R2: 0.8201073191954292\n",
    "\n",
    "Normalize: True\n",
    "MAE: 26388.59702974661\n",
    "MSE: 1290767140.9255707\n",
    "RMSE: 35927.24788966685\n",
    "R2: 0.8201073191954413\n",
    "\"\"\";"
   ]
  },
  {
   "cell_type": "code",
   "execution_count": null,
   "id": "93e13005",
   "metadata": {},
   "outputs": [],
   "source": [
    "y[y.index.intersection(X.index)]"
   ]
  },
  {
   "cell_type": "markdown",
   "id": "711b879f",
   "metadata": {},
   "source": [
    "--------------------\n",
    "**EVALUACION VISUAL DEL MODELO CON DATOS DE OTRA MUESTRA PERO QUE SEAN REPRESENTATIVOS DE ESTA**"
   ]
  },
  {
   "cell_type": "code",
   "execution_count": null,
   "id": "5e3cab70",
   "metadata": {},
   "outputs": [],
   "source": [
    "#Xtest # 54 columns\n",
    "#data[features]"
   ]
  },
  {
   "cell_type": "code",
   "execution_count": null,
   "id": "05aee560",
   "metadata": {},
   "outputs": [],
   "source": [
    "data = data[features]\n",
    "data = pd.concat([data,dummy_place], axis=1)\n",
    "data = data.dropna()\n",
    "array_predict = linreg.predict(data)\n"
   ]
  },
  {
   "cell_type": "code",
   "execution_count": null,
   "id": "4005f9fc",
   "metadata": {},
   "outputs": [],
   "source": [
    "data = pd.DataFrame(Dicto['data'])\n",
    "data['y_pred'] = array_predict"
   ]
  },
  {
   "cell_type": "code",
   "execution_count": null,
   "id": "cb7cff4d",
   "metadata": {},
   "outputs": [],
   "source": [
    "#print (pd.Series(X.columns).to_string()) # 0,1,2 son numericas # 3 es categorica de la superficie y el resto categorica de la ubicacion\n",
    "print (data.columns)\n",
    "variable_independiente = data.sup_total.values\n",
    "predicho = data.columna_predicha.values\n",
    "\n",
    "plt.scatter(variable_independiente, predicho)"
   ]
  },
  {
   "cell_type": "code",
   "execution_count": null,
   "id": "e6cc5876",
   "metadata": {},
   "outputs": [],
   "source": [
    "muestra = pd.read_csv('muestra_currency_nan.csv')\n",
    "\n",
    "serie_same = muestra[muestra.property_type == 'apartment'].place_name\n",
    "#columna_same = list(muestra.columns)\n",
    "#columna_same\n",
    "#list_same = list(serie_same.unique())\n",
    "\n",
    "list(serie_same.unique())\n",
    "\n",
    "\n",
    "#data[data.place.isin(list_same)]"
   ]
  },
  {
   "cell_type": "code",
   "execution_count": null,
   "id": "42c98a0e",
   "metadata": {},
   "outputs": [],
   "source": [
    "data"
   ]
  },
  {
   "cell_type": "code",
   "execution_count": null,
   "id": "5041bf91",
   "metadata": {},
   "outputs": [],
   "source": []
  },
  {
   "cell_type": "code",
   "execution_count": null,
   "id": "d128df46",
   "metadata": {},
   "outputs": [],
   "source": []
  },
  {
   "cell_type": "code",
   "execution_count": null,
   "id": "ca97e741",
   "metadata": {},
   "outputs": [],
   "source": []
  },
  {
   "cell_type": "code",
   "execution_count": null,
   "id": "cb7d3798",
   "metadata": {},
   "outputs": [],
   "source": []
  },
  {
   "cell_type": "code",
   "execution_count": null,
   "id": "b28c3fa9",
   "metadata": {},
   "outputs": [],
   "source": []
  },
  {
   "cell_type": "code",
   "execution_count": null,
   "id": "03821c33",
   "metadata": {},
   "outputs": [],
   "source": [
    "## filtrar el feature - para explicar lo que vamos a hacer (ya vamos a haber analizado la muestra, para asegurarnos que el filtro aplicado es válido)\n",
    "### predecir una muestra - \n",
    "## aplicar el mismo filtro a la muestra - \n",
    "\n",
    "def visualizacion_dos_scatter():\n",
    "    pass\n",
    "\n",
    "\"\"\"\n",
    "dame dos datasets, ya filtrados\n",
    "\n",
    "# separame el eje x, de cualquier de los dos datasets\n",
    "# armame una serie de cada valor real/predicho\n",
    "\"\"\"\n",
    "\n",
    "## Ploteamos los datos de entrenamiento vs los calculados de la muestra\n",
    "plt.scatter(variable_independiente, objetivo)\n",
    "plt.scatter(variable_independiente, data[\"y_pred\"]) # muestra, entonces com\n",
    "plt.suptitle('y, y_pred');\n",
    "\n",
    "\n",
    "ax = plt.axes() #instancia de un objeto\n",
    "# tiene atributos y tiene métodos\n",
    "# los atributos .algo y los métodos son .algo()\n",
    "# \n",
    "ax.set(xlabel = 'x', ylabel='price_per_m2')\n",
    "#azules reales\n",
    "#naranjas predichos"
   ]
  }
 ],
 "metadata": {
  "kernelspec": {
   "display_name": "Python [conda env:dhdsblend2021] *",
   "language": "python",
   "name": "conda-env-dhdsblend2021-py"
  },
  "language_info": {
   "codemirror_mode": {
    "name": "ipython",
    "version": 3
   },
   "file_extension": ".py",
   "mimetype": "text/x-python",
   "name": "python",
   "nbconvert_exporter": "python",
   "pygments_lexer": "ipython3",
   "version": "3.8.12"
  }
 },
 "nbformat": 4,
 "nbformat_minor": 5
}
