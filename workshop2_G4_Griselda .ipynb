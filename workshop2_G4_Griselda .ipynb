{
 "cells": [
  {
   "cell_type": "markdown",
   "id": "9a3ac184",
   "metadata": {},
   "source": [
    "# WORKSHOP 2\n",
    "\n",
    "------------\n",
    "\n",
    "**<u>GRUPO 4<u>**\n",
    "\n",
    "Digital House\n",
    "\n",
    "link git hub: https://github.com/grupo4dhds/grupo4_git.git\n",
    "\n",
    "--------------\n",
    "\n",
    "## CONTENIDO\n",
    "\n",
    "\n",
    "**items celda 4:**\n",
    "\t\n",
    "\t- 1. LECTURA DEL DATASET\n",
    "\n",
    "\n",
    "\t- 2. PRIMER MODULO\n",
    "    \n",
    "    * Chequeo de informacion\n",
    "        * Eliminacion place_name = Capital Federal, state_name == place_name == 'Capital Federal', not relevant\n",
    "        * Eliminacion de datos nulos en superficie\n",
    "        * Seleccion de la muestra: mask_muetra\n",
    "    * Obtencion de la muestra\n",
    "        * Creacion muestra: data_nuevo\n",
    "        * Verificacion inicial con statmodels\n",
    "\n",
    "\t- 3. SEGUNDO MODULO\n",
    " \n",
    "    * Definimos el modelo, definimos el feature y el vector prediccion, hacemos la separacion de la muestra de entrenamiento y la de testeo, entrenamiento del modelo, colocacion de etiquetas: Creacion vector prediccion: ypred\n",
    "    * Evaluacion de la performance, MAE, MSE, RMSE, R2\n",
    "    * cross_val_score()\n",
    "    * Segundo modelo:\n",
    "\n",
    "    - Reacondicionamiento del dataset: data_nuevo_surface_covered\n",
    "    - Creacion de feature y vector prediccion, creacion del modelo(linreg), entrenamiento algoritmo:\n",
    "        - modelo de toda la muestra: est\n",
    "        - modelo de la muestra de entrenamiento: linreg\n",
    "    - cross_validation(): medidas estadisticas: media y std\n",
    "\n"
   ]
  },
  {
   "cell_type": "code",
   "execution_count": 42,
   "id": "111cd480",
   "metadata": {},
   "outputs": [],
   "source": [
    "import numpy as np\n",
    "import pandas as pd\n",
    "import re\n",
    "import matplotlib.pyplot as plt\n",
    "import seaborn as sns\n",
    "import warnings\n",
    "import statsmodels.api as sm\n",
    "from sklearn.linear_model import LinearRegression\n",
    "from sklearn.model_selection import train_test_split\n",
    "from sklearn.metrics import mean_absolute_error, mean_squared_error, r2_score\n",
    "from sklearn import linear_model\n",
    "from sklearn.preprocessing import StandardScaler"
   ]
  },
  {
   "cell_type": "code",
   "execution_count": 43,
   "id": "6f7931f9",
   "metadata": {
    "jupyter": {
     "source_hidden": true
    }
   },
   "outputs": [
    {
     "data": {
      "text/html": [
       "<div>\n",
       "<style scoped>\n",
       "    .dataframe tbody tr th:only-of-type {\n",
       "        vertical-align: middle;\n",
       "    }\n",
       "\n",
       "    .dataframe tbody tr th {\n",
       "        vertical-align: top;\n",
       "    }\n",
       "\n",
       "    .dataframe thead th {\n",
       "        text-align: right;\n",
       "    }\n",
       "</style>\n",
       "<table border=\"1\" class=\"dataframe\">\n",
       "  <thead>\n",
       "    <tr style=\"text-align: right;\">\n",
       "      <th></th>\n",
       "      <th>Unnamed: 0</th>\n",
       "      <th>property_type</th>\n",
       "      <th>place_name</th>\n",
       "      <th>state_name</th>\n",
       "      <th>price</th>\n",
       "      <th>currency</th>\n",
       "      <th>surface_total_in_m2</th>\n",
       "      <th>surface_covered_in_m2</th>\n",
       "      <th>price_usd_per_m2</th>\n",
       "      <th>place_name_2</th>\n",
       "      <th>floor</th>\n",
       "      <th>rooms</th>\n",
       "      <th>expenses</th>\n",
       "      <th>regex1</th>\n",
       "      <th>regex2</th>\n",
       "      <th>direccion</th>\n",
       "      <th>above_mean</th>\n",
       "    </tr>\n",
       "  </thead>\n",
       "  <tbody>\n",
       "    <tr>\n",
       "      <th>0</th>\n",
       "      <td>2</td>\n",
       "      <td>apartment</td>\n",
       "      <td>Mataderos</td>\n",
       "      <td>Capital Federal</td>\n",
       "      <td>72000.0</td>\n",
       "      <td>USD</td>\n",
       "      <td>55.0</td>\n",
       "      <td>55.0</td>\n",
       "      <td>1309.090909</td>\n",
       "      <td>Mataderos</td>\n",
       "      <td>NaN</td>\n",
       "      <td>NaN</td>\n",
       "      <td>NaN</td>\n",
       "      <td>NaN</td>\n",
       "      <td>NaN</td>\n",
       "      <td>NaN</td>\n",
       "      <td>0.0</td>\n",
       "    </tr>\n",
       "    <tr>\n",
       "      <th>1</th>\n",
       "      <td>5189</td>\n",
       "      <td>apartment</td>\n",
       "      <td>Mataderos</td>\n",
       "      <td>Capital Federal</td>\n",
       "      <td>67000.0</td>\n",
       "      <td>USD</td>\n",
       "      <td>40.0</td>\n",
       "      <td>28.0</td>\n",
       "      <td>1675.000000</td>\n",
       "      <td>Mataderos</td>\n",
       "      <td>NaN</td>\n",
       "      <td>NaN</td>\n",
       "      <td>NaN</td>\n",
       "      <td>NaN</td>\n",
       "      <td>NaN</td>\n",
       "      <td>NaN</td>\n",
       "      <td>0.0</td>\n",
       "    </tr>\n",
       "  </tbody>\n",
       "</table>\n",
       "</div>"
      ],
      "text/plain": [
       "   Unnamed: 0 property_type place_name       state_name    price currency  \\\n",
       "0           2     apartment  Mataderos  Capital Federal  72000.0      USD   \n",
       "1        5189     apartment  Mataderos  Capital Federal  67000.0      USD   \n",
       "\n",
       "   surface_total_in_m2  surface_covered_in_m2  price_usd_per_m2 place_name_2  \\\n",
       "0                 55.0                   55.0       1309.090909    Mataderos   \n",
       "1                 40.0                   28.0       1675.000000    Mataderos   \n",
       "\n",
       "   floor  rooms  expenses regex1 regex2 direccion  above_mean  \n",
       "0    NaN    NaN       NaN    NaN    NaN       NaN         0.0  \n",
       "1    NaN    NaN       NaN    NaN    NaN       NaN         0.0  "
      ]
     },
     "execution_count": 43,
     "metadata": {},
     "output_type": "execute_result"
    }
   ],
   "source": [
    "data = pd.read_csv('data_workshop_2.csv')\n",
    "\n",
    "\n",
    "warnings.filterwarnings('ignore')\n",
    "data.head(2)"
   ]
  },
  {
   "cell_type": "code",
   "execution_count": 44,
   "id": "71adc53f",
   "metadata": {},
   "outputs": [
    {
     "data": {
      "text/html": [
       "<div>\n",
       "<style scoped>\n",
       "    .dataframe tbody tr th:only-of-type {\n",
       "        vertical-align: middle;\n",
       "    }\n",
       "\n",
       "    .dataframe tbody tr th {\n",
       "        vertical-align: top;\n",
       "    }\n",
       "\n",
       "    .dataframe thead th {\n",
       "        text-align: right;\n",
       "    }\n",
       "</style>\n",
       "<table border=\"1\" class=\"dataframe\">\n",
       "  <thead>\n",
       "    <tr style=\"text-align: right;\">\n",
       "      <th></th>\n",
       "      <th>Unnamed: 0</th>\n",
       "      <th>property_type</th>\n",
       "      <th>place_name</th>\n",
       "      <th>state_name</th>\n",
       "      <th>price</th>\n",
       "      <th>currency</th>\n",
       "      <th>surface_total_in_m2</th>\n",
       "      <th>surface_covered_in_m2</th>\n",
       "      <th>price_usd_per_m2</th>\n",
       "      <th>place_name_2</th>\n",
       "      <th>floor</th>\n",
       "      <th>rooms</th>\n",
       "      <th>expenses</th>\n",
       "      <th>regex1</th>\n",
       "      <th>regex2</th>\n",
       "      <th>direccion</th>\n",
       "      <th>above_mean</th>\n",
       "    </tr>\n",
       "  </thead>\n",
       "  <tbody>\n",
       "    <tr>\n",
       "      <th>0</th>\n",
       "      <td>2</td>\n",
       "      <td>apartment</td>\n",
       "      <td>Mataderos</td>\n",
       "      <td>Capital Federal</td>\n",
       "      <td>72000.0</td>\n",
       "      <td>USD</td>\n",
       "      <td>55.0</td>\n",
       "      <td>55.0</td>\n",
       "      <td>1309.090909</td>\n",
       "      <td>Mataderos</td>\n",
       "      <td>NaN</td>\n",
       "      <td>NaN</td>\n",
       "      <td>NaN</td>\n",
       "      <td>NaN</td>\n",
       "      <td>NaN</td>\n",
       "      <td>NaN</td>\n",
       "      <td>0.0</td>\n",
       "    </tr>\n",
       "    <tr>\n",
       "      <th>1</th>\n",
       "      <td>5189</td>\n",
       "      <td>apartment</td>\n",
       "      <td>Mataderos</td>\n",
       "      <td>Capital Federal</td>\n",
       "      <td>67000.0</td>\n",
       "      <td>USD</td>\n",
       "      <td>40.0</td>\n",
       "      <td>28.0</td>\n",
       "      <td>1675.000000</td>\n",
       "      <td>Mataderos</td>\n",
       "      <td>NaN</td>\n",
       "      <td>NaN</td>\n",
       "      <td>NaN</td>\n",
       "      <td>NaN</td>\n",
       "      <td>NaN</td>\n",
       "      <td>NaN</td>\n",
       "      <td>0.0</td>\n",
       "    </tr>\n",
       "    <tr>\n",
       "      <th>2</th>\n",
       "      <td>6450</td>\n",
       "      <td>apartment</td>\n",
       "      <td>Mataderos</td>\n",
       "      <td>Capital Federal</td>\n",
       "      <td>90000.0</td>\n",
       "      <td>USD</td>\n",
       "      <td>52.0</td>\n",
       "      <td>48.0</td>\n",
       "      <td>1730.769231</td>\n",
       "      <td>Mataderos</td>\n",
       "      <td>NaN</td>\n",
       "      <td>NaN</td>\n",
       "      <td>200.0</td>\n",
       "      <td>NaN</td>\n",
       "      <td>NaN</td>\n",
       "      <td>NaN</td>\n",
       "      <td>0.0</td>\n",
       "    </tr>\n",
       "    <tr>\n",
       "      <th>3</th>\n",
       "      <td>7725</td>\n",
       "      <td>apartment</td>\n",
       "      <td>Mataderos</td>\n",
       "      <td>Capital Federal</td>\n",
       "      <td>88000.0</td>\n",
       "      <td>USD</td>\n",
       "      <td>50.0</td>\n",
       "      <td>38.0</td>\n",
       "      <td>1760.000000</td>\n",
       "      <td>Mataderos</td>\n",
       "      <td>NaN</td>\n",
       "      <td>2.0</td>\n",
       "      <td>500.0</td>\n",
       "      <td>NaN</td>\n",
       "      <td>NaN</td>\n",
       "      <td>NaN</td>\n",
       "      <td>0.0</td>\n",
       "    </tr>\n",
       "    <tr>\n",
       "      <th>4</th>\n",
       "      <td>8339</td>\n",
       "      <td>apartment</td>\n",
       "      <td>Mataderos</td>\n",
       "      <td>Capital Federal</td>\n",
       "      <td>93600.0</td>\n",
       "      <td>USD</td>\n",
       "      <td>51.0</td>\n",
       "      <td>46.0</td>\n",
       "      <td>1835.294118</td>\n",
       "      <td>Mataderos</td>\n",
       "      <td>NaN</td>\n",
       "      <td>NaN</td>\n",
       "      <td>NaN</td>\n",
       "      <td>NaN</td>\n",
       "      <td>NaN</td>\n",
       "      <td>NaN</td>\n",
       "      <td>0.0</td>\n",
       "    </tr>\n",
       "    <tr>\n",
       "      <th>...</th>\n",
       "      <td>...</td>\n",
       "      <td>...</td>\n",
       "      <td>...</td>\n",
       "      <td>...</td>\n",
       "      <td>...</td>\n",
       "      <td>...</td>\n",
       "      <td>...</td>\n",
       "      <td>...</td>\n",
       "      <td>...</td>\n",
       "      <td>...</td>\n",
       "      <td>...</td>\n",
       "      <td>...</td>\n",
       "      <td>...</td>\n",
       "      <td>...</td>\n",
       "      <td>...</td>\n",
       "      <td>...</td>\n",
       "      <td>...</td>\n",
       "    </tr>\n",
       "    <tr>\n",
       "      <th>21429</th>\n",
       "      <td>14653</td>\n",
       "      <td>store</td>\n",
       "      <td>Ciudadela</td>\n",
       "      <td>Bs.As. G.B.A. Zona Oeste</td>\n",
       "      <td>99000.0</td>\n",
       "      <td>USD</td>\n",
       "      <td>NaN</td>\n",
       "      <td>105.0</td>\n",
       "      <td>942.857143</td>\n",
       "      <td>Ciudadela</td>\n",
       "      <td>NaN</td>\n",
       "      <td>NaN</td>\n",
       "      <td>NaN</td>\n",
       "      <td>estrategico</td>\n",
       "      <td>NaN</td>\n",
       "      <td>NaN</td>\n",
       "      <td>NaN</td>\n",
       "    </tr>\n",
       "    <tr>\n",
       "      <th>21430</th>\n",
       "      <td>56361</td>\n",
       "      <td>store</td>\n",
       "      <td>Ciudadela</td>\n",
       "      <td>Bs.As. G.B.A. Zona Oeste</td>\n",
       "      <td>85000.0</td>\n",
       "      <td>USD</td>\n",
       "      <td>87.0</td>\n",
       "      <td>87.0</td>\n",
       "      <td>977.011494</td>\n",
       "      <td>Ciudadela</td>\n",
       "      <td>NaN</td>\n",
       "      <td>NaN</td>\n",
       "      <td>NaN</td>\n",
       "      <td>NaN</td>\n",
       "      <td>NaN</td>\n",
       "      <td>NaN</td>\n",
       "      <td>NaN</td>\n",
       "    </tr>\n",
       "    <tr>\n",
       "      <th>21431</th>\n",
       "      <td>56408</td>\n",
       "      <td>store</td>\n",
       "      <td>Ciudadela</td>\n",
       "      <td>Bs.As. G.B.A. Zona Oeste</td>\n",
       "      <td>320000.0</td>\n",
       "      <td>USD</td>\n",
       "      <td>180.0</td>\n",
       "      <td>180.0</td>\n",
       "      <td>1777.777778</td>\n",
       "      <td>Ciudadela</td>\n",
       "      <td>NaN</td>\n",
       "      <td>NaN</td>\n",
       "      <td>NaN</td>\n",
       "      <td>estrategico</td>\n",
       "      <td>NaN</td>\n",
       "      <td>NaN</td>\n",
       "      <td>NaN</td>\n",
       "    </tr>\n",
       "    <tr>\n",
       "      <th>21432</th>\n",
       "      <td>36148</td>\n",
       "      <td>store</td>\n",
       "      <td>Merlo</td>\n",
       "      <td>Bs.As. G.B.A. Zona Oeste</td>\n",
       "      <td>270000.0</td>\n",
       "      <td>USD</td>\n",
       "      <td>375.0</td>\n",
       "      <td>333.0</td>\n",
       "      <td>720.000000</td>\n",
       "      <td>otros</td>\n",
       "      <td>NaN</td>\n",
       "      <td>NaN</td>\n",
       "      <td>NaN</td>\n",
       "      <td>NaN</td>\n",
       "      <td>NaN</td>\n",
       "      <td>NaN</td>\n",
       "      <td>NaN</td>\n",
       "    </tr>\n",
       "    <tr>\n",
       "      <th>21433</th>\n",
       "      <td>44668</td>\n",
       "      <td>store</td>\n",
       "      <td>Merlo</td>\n",
       "      <td>Bs.As. G.B.A. Zona Oeste</td>\n",
       "      <td>370000.0</td>\n",
       "      <td>USD</td>\n",
       "      <td>366.0</td>\n",
       "      <td>366.0</td>\n",
       "      <td>1010.928962</td>\n",
       "      <td>otros</td>\n",
       "      <td>NaN</td>\n",
       "      <td>NaN</td>\n",
       "      <td>NaN</td>\n",
       "      <td>NaN</td>\n",
       "      <td>NaN</td>\n",
       "      <td>calle Rivadavia N°25300</td>\n",
       "      <td>NaN</td>\n",
       "    </tr>\n",
       "  </tbody>\n",
       "</table>\n",
       "<p>21434 rows × 17 columns</p>\n",
       "</div>"
      ],
      "text/plain": [
       "       Unnamed: 0 property_type place_name                state_name  \\\n",
       "0               2     apartment  Mataderos           Capital Federal   \n",
       "1            5189     apartment  Mataderos           Capital Federal   \n",
       "2            6450     apartment  Mataderos           Capital Federal   \n",
       "3            7725     apartment  Mataderos           Capital Federal   \n",
       "4            8339     apartment  Mataderos           Capital Federal   \n",
       "...           ...           ...        ...                       ...   \n",
       "21429       14653         store  Ciudadela  Bs.As. G.B.A. Zona Oeste   \n",
       "21430       56361         store  Ciudadela  Bs.As. G.B.A. Zona Oeste   \n",
       "21431       56408         store  Ciudadela  Bs.As. G.B.A. Zona Oeste   \n",
       "21432       36148         store      Merlo  Bs.As. G.B.A. Zona Oeste   \n",
       "21433       44668         store      Merlo  Bs.As. G.B.A. Zona Oeste   \n",
       "\n",
       "          price currency  surface_total_in_m2  surface_covered_in_m2  \\\n",
       "0       72000.0      USD                 55.0                   55.0   \n",
       "1       67000.0      USD                 40.0                   28.0   \n",
       "2       90000.0      USD                 52.0                   48.0   \n",
       "3       88000.0      USD                 50.0                   38.0   \n",
       "4       93600.0      USD                 51.0                   46.0   \n",
       "...         ...      ...                  ...                    ...   \n",
       "21429   99000.0      USD                  NaN                  105.0   \n",
       "21430   85000.0      USD                 87.0                   87.0   \n",
       "21431  320000.0      USD                180.0                  180.0   \n",
       "21432  270000.0      USD                375.0                  333.0   \n",
       "21433  370000.0      USD                366.0                  366.0   \n",
       "\n",
       "       price_usd_per_m2 place_name_2  floor  rooms  expenses       regex1  \\\n",
       "0           1309.090909    Mataderos    NaN    NaN       NaN          NaN   \n",
       "1           1675.000000    Mataderos    NaN    NaN       NaN          NaN   \n",
       "2           1730.769231    Mataderos    NaN    NaN     200.0          NaN   \n",
       "3           1760.000000    Mataderos    NaN    2.0     500.0          NaN   \n",
       "4           1835.294118    Mataderos    NaN    NaN       NaN          NaN   \n",
       "...                 ...          ...    ...    ...       ...          ...   \n",
       "21429        942.857143    Ciudadela    NaN    NaN       NaN  estrategico   \n",
       "21430        977.011494    Ciudadela    NaN    NaN       NaN          NaN   \n",
       "21431       1777.777778    Ciudadela    NaN    NaN       NaN  estrategico   \n",
       "21432        720.000000        otros    NaN    NaN       NaN          NaN   \n",
       "21433       1010.928962        otros    NaN    NaN       NaN          NaN   \n",
       "\n",
       "      regex2                direccion  above_mean  \n",
       "0        NaN                      NaN         0.0  \n",
       "1        NaN                      NaN         0.0  \n",
       "2        NaN                      NaN         0.0  \n",
       "3        NaN                      NaN         0.0  \n",
       "4        NaN                      NaN         0.0  \n",
       "...      ...                      ...         ...  \n",
       "21429    NaN                      NaN         NaN  \n",
       "21430    NaN                      NaN         NaN  \n",
       "21431    NaN                      NaN         NaN  \n",
       "21432    NaN                      NaN         NaN  \n",
       "21433    NaN  calle Rivadavia N°25300         NaN  \n",
       "\n",
       "[21434 rows x 17 columns]"
      ]
     },
     "execution_count": 44,
     "metadata": {},
     "output_type": "execute_result"
    }
   ],
   "source": [
    "data"
   ]
  },
  {
   "cell_type": "code",
   "execution_count": 45,
   "id": "c3c193cc",
   "metadata": {},
   "outputs": [
    {
     "data": {
      "text/plain": [
       "apartment    15942\n",
       "house         2583\n",
       "PH            2212\n",
       "store          697\n",
       "Name: property_type, dtype: int64"
      ]
     },
     "execution_count": 45,
     "metadata": {},
     "output_type": "execute_result"
    }
   ],
   "source": [
    "data.property_type.value_counts()"
   ]
  },
  {
   "cell_type": "markdown",
   "id": "3d67f762",
   "metadata": {},
   "source": [
    "------------------\n",
    "**Primer modelo**\n",
    "\n",
    "* Chequeo de informacion\n",
    "* Eliminacion place_name = Capital Federal, state_name == place_name == 'Capital Federal', not relevant\n",
    "* Eliminacion de datos nulos en superficie\n",
    "* Seleccion de la muestra: mask_muetra\n",
    "\n",
    "**Obtencion de la muestra**\n",
    "\n",
    "* Creacion muestra: data_nuevo"
   ]
  },
  {
   "cell_type": "code",
   "execution_count": 46,
   "id": "1abea07b",
   "metadata": {
    "jupyter": {
     "source_hidden": true
    }
   },
   "outputs": [
    {
     "data": {
      "text/plain": [
       "Index(['Unnamed: 0', 'property_type', 'place_name', 'state_name', 'price',\n",
       "       'currency', 'surface_total_in_m2', 'surface_covered_in_m2',\n",
       "       'price_usd_per_m2', 'place_name_2', 'floor', 'rooms', 'expenses',\n",
       "       'regex1', 'regex2', 'direccion', 'above_mean'],\n",
       "      dtype='object')"
      ]
     },
     "execution_count": 46,
     "metadata": {},
     "output_type": "execute_result"
    }
   ],
   "source": [
    "data.columns"
   ]
  },
  {
   "cell_type": "code",
   "execution_count": 47,
   "id": "e71fa6d9",
   "metadata": {
    "jupyter": {
     "source_hidden": true
    }
   },
   "outputs": [
    {
     "name": "stdout",
     "output_type": "stream",
     "text": [
      "(21434, 17)\n"
     ]
    },
    {
     "data": {
      "text/plain": [
       "Capital Federal                 9984\n",
       "Bs.As. G.B.A. Zona Norte        2622\n",
       "Bs.As. G.B.A. Zona Sur          1879\n",
       "Bs.As. G.B.A. Zona Oeste        1128\n",
       "Buenos Aires Costa Atlántica     941\n",
       "Name: state_name, dtype: int64"
      ]
     },
     "execution_count": 47,
     "metadata": {},
     "output_type": "execute_result"
    }
   ],
   "source": [
    "print(data.shape)\n",
    "data_dropna_surface_total=data.dropna(subset=['surface_total_in_m2'])\n",
    "data_dropna_surface_total.state_name.value_counts()"
   ]
  },
  {
   "cell_type": "code",
   "execution_count": 48,
   "id": "8c469a36",
   "metadata": {
    "jupyter": {
     "source_hidden": true
    }
   },
   "outputs": [
    {
     "data": {
      "text/plain": [
       "Palermo         1315\n",
       "Villa Crespo     913\n",
       "Flores           877\n",
       "Recoleta         742\n",
       "Barrio Norte     665\n",
       "Name: place_name, dtype: int64"
      ]
     },
     "execution_count": 48,
     "metadata": {},
     "output_type": "execute_result"
    }
   ],
   "source": [
    "mask1=data_dropna_surface_total.state_name == 'Capital Federal'\n",
    "#mask2=data_dropna_surface_total.property_type == 'apartment' \n",
    "#mask3=data_dropna_surface_total.property_type =='store'\n",
    "data_dropna_surface_total.loc[mask1,:].place_name.value_counts()[0:5]"
   ]
  },
  {
   "cell_type": "code",
   "execution_count": 49,
   "id": "3c0b69a0",
   "metadata": {
    "jupyter": {
     "source_hidden": true
    }
   },
   "outputs": [
    {
     "name": "stdout",
     "output_type": "stream",
     "text": [
      "3485\n"
     ]
    },
    {
     "data": {
      "text/plain": [
       "apartment    3374\n",
       "store          82\n",
       "PH             22\n",
       "house           7\n",
       "Name: property_type, dtype: int64"
      ]
     },
     "execution_count": 49,
     "metadata": {},
     "output_type": "execute_result"
    }
   ],
   "source": [
    "mask31=data_dropna_surface_total.place_name =='Palermo'\n",
    "mask32=data_dropna_surface_total.place_name =='Palermo Hollywood'\n",
    "mask33=data_dropna_surface_total.place_name =='Palermo Soho'\n",
    "mask34=data_dropna_surface_total.place_name =='Palermo Chico'\n",
    "mask41=data_dropna_surface_total.place_name =='Recoleta'\n",
    "mask42=data_dropna_surface_total.place_name =='Barrio Norte'\n",
    "mask43=data_dropna_surface_total.place_name =='Retiro'\n",
    "\n",
    "mask_muestra = ['Palermo', 'Palermo Hollywood', 'Palermo Soho', 'Palermo Chico', 'Recoleta', 'Barrio Norte', 'Retiro']\n",
    "\n",
    "\n",
    "data_nuevo=data_dropna_surface_total.loc[(mask31 | mask32 | mask33 | mask34 | mask41 | mask42 | mask43),:]\n",
    "#data_nuevo=data_dropna_surface_total.loc[(mask2 | mask3) & (mask31 | mask32 | mask33 | mask34 | mask41 | mask42 | mask43),:]\n",
    "distribucion_data_nuevo=data_nuevo.place_name.value_counts().sum()\n",
    "print(distribucion_data_nuevo)\n",
    "data_nuevo.property_type.value_counts()"
   ]
  },
  {
   "cell_type": "code",
   "execution_count": 50,
   "id": "d308114f",
   "metadata": {
    "jupyter": {
     "source_hidden": true
    }
   },
   "outputs": [
    {
     "data": {
      "text/plain": [
       "Text(0, 0.5, 'Cantidad de propiedades')"
      ]
     },
     "execution_count": 50,
     "metadata": {},
     "output_type": "execute_result"
    },
    {
     "data": {
      "image/png": "[encoded data removed]",
      "text/plain": [
       "<Figure size 576x360 with 1 Axes>"
      ]
     },
     "metadata": {
      "needs_background": "light"
     },
     "output_type": "display_data"
    }
   ],
   "source": [
    "plt.figure(figsize=(8,5))\n",
    "sns.countplot(x='place_name',data=data_nuevo)\n",
    "plt.xticks(rotation=30)\n",
    "ax = plt.axes()\n",
    "ax.set_xlabel('Sectores Palermo, Recoleta Barrio Norte y Retiro', fontsize=12)\n",
    "ax.set_ylabel('Cantidad de propiedades',fontsize=12)"
   ]
  },
  {
   "cell_type": "code",
   "execution_count": 51,
   "id": "8128eeca",
   "metadata": {
    "jupyter": {
     "source_hidden": true
    }
   },
   "outputs": [
    {
     "data": {
      "image/png": "[encoded data removed]",
      "text/plain": [
       "<Figure size 648x432 with 1 Axes>"
      ]
     },
     "metadata": {
      "needs_background": "light"
     },
     "output_type": "display_data"
    }
   ],
   "source": [
    "fig = plt.figure(figsize=(9,6))\n",
    "# creo los axes\n",
    "ax = plt.axes()\n",
    "# dibujo en axes:\n",
    "\n",
    "def get_sample(data, n_sample, replace=False):\n",
    "    # SUPONE QUE NO HAY REPOSICION COMO DEFAULT\n",
    "    random_generator = np.random.default_rng()\n",
    "    index_sample = random_generator.choice(data.index, size = n_sample, replace=replace)\n",
    "    data_sample = data.loc[index_sample]\n",
    "    return data_sample\n",
    "\n",
    "\"\"\"\n",
    "Tener un diccionario que almacene muestra, en este caso uno le dice el numero de muestras y luego contando a partir de 1 en adelante un diccionario te guarda en los keys Muestra_A.keys(): 'muestra_1', 'muestra_2', 'muestra_3'\n",
    "\"\"\"\n",
    "data_nuevo_sample = get_sample(data_nuevo, 1000, replace=False)\n",
    "\n",
    "plt.scatter(data_nuevo_sample.surface_total_in_m2,data_nuevo_sample.price)\n",
    "plt.title('Palermo - Retiro - Recoleta - Barrio Norte',fontweight='bold',size=15)\n",
    "plt.ylabel('Precio USD')\n",
    "plt.xlabel('Superficie total en M2')\n",
    "plt.show()\n",
    "\n",
    "\n",
    "def identificar_valores_extremos():\n",
    "    pass"
   ]
  },
  {
   "cell_type": "code",
   "execution_count": 52,
   "id": "a947c0b0",
   "metadata": {},
   "outputs": [
    {
     "data": {
      "image/png": "[encoded data removed]",
      "text/plain": [
       "<Figure size 648x432 with 1 Axes>"
      ]
     },
     "metadata": {
      "needs_background": "light"
     },
     "output_type": "display_data"
    }
   ],
   "source": [
    "fig = plt.figure(figsize=(9,6))\n",
    "sns.regplot(data = data_nuevo, x = \"surface_total_in_m2\", y = \"price\", \n",
    "            ci = 90,\n",
    "            scatter_kws = {\"color\": \"red\", 's': 5},\n",
    "            line_kws = {\"color\": \"blue\"});\n",
    "plt.xlim(20,250)\n",
    "plt.ylim(bottom=0,top=.8e6);"
   ]
  },
  {
   "cell_type": "markdown",
   "id": "6e88426c",
   "metadata": {},
   "source": [
    "**VERIFICACION INICIAL**"
   ]
  },
  {
   "cell_type": "code",
   "execution_count": 53,
   "id": "851aa866",
   "metadata": {
    "jupyter": {
     "source_hidden": true
    }
   },
   "outputs": [
    {
     "name": "stdout",
     "output_type": "stream",
     "text": [
      "                            OLS Regression Results                            \n",
      "==============================================================================\n",
      "Dep. Variable:                  price   R-squared:                       0.773\n",
      "Model:                            OLS   Adj. R-squared:                  0.773\n",
      "Method:                 Least Squares   F-statistic:                 1.189e+04\n",
      "Date:                Sat, 12 Mar 2022   Prob (F-statistic):               0.00\n",
      "Time:                        17:00:22   Log-Likelihood:                -42586.\n",
      "No. Observations:                3485   AIC:                         8.518e+04\n",
      "Df Residuals:                    3483   BIC:                         8.519e+04\n",
      "Df Model:                           1                                         \n",
      "Covariance Type:            nonrobust                                         \n",
      "==============================================================================\n",
      "                 coef    std err          t      P>|t|      [0.025      0.975]\n",
      "------------------------------------------------------------------------------\n",
      "const       4.252e+04   1704.045     24.952      0.000    3.92e+04    4.59e+04\n",
      "x1          2244.1416     20.581    109.038      0.000    2203.789    2284.494\n",
      "==============================================================================\n",
      "Omnibus:                      716.645   Durbin-Watson:                   1.691\n",
      "Prob(Omnibus):                  0.000   Jarque-Bera (JB):            13280.879\n",
      "Skew:                          -0.470   Prob(JB):                         0.00\n",
      "Kurtosis:                      12.517   Cond. No.                         170.\n",
      "==============================================================================\n",
      "\n",
      "Notes:\n",
      "[1] Standard Errors assume that the covariance matrix of the errors is correctly specified.\n"
     ]
    }
   ],
   "source": [
    "# STAT MODELS\n",
    "\n",
    "X_t = np.array(data_nuevo.surface_total_in_m2, ndmin=2)\n",
    "X = np.transpose(X_t)\n",
    "y = data_nuevo.price\n",
    "\n",
    "# Tenemos que agregar explícitamente a una constante:\n",
    "X = sm.add_constant(X)\n",
    "\n",
    "model = sm.OLS(y, X).fit()\n",
    "print (model.summary())"
   ]
  },
  {
   "cell_type": "markdown",
   "id": "65373115",
   "metadata": {},
   "source": [
    "---------------------------------\n",
    "**modulo 2**\n",
    "\n",
    "* Definimos el modelo, definimos el feature y el vector prediccion, hacemos la separacion de la muestra de entrenamiento y la de testeo, entrenamiento del modelo, colocacion de etiquetas: Creacion vector prediccion: ypred\n",
    "* Evaluacion de la performance, MAE, MSE, RMSE, R2\n",
    "* cross_val_score()\n",
    "* Segundo modelo:\n",
    "\n",
    "    - Reacondicionamiento del dataset: data_nuevo_surface_covered\n",
    "    - Creacion de feature y vector prediccion, creacion del modelo(linreg), entrenamiento algoritmo:\n",
    "        - modelo de toda la muestra: est\n",
    "        - modelo de la muestra de entrenamiento: linreg\n",
    "    - cross_validation(): medidas estadisticas: media y std"
   ]
  },
  {
   "cell_type": "code",
   "execution_count": 54,
   "id": "5827e5c3",
   "metadata": {},
   "outputs": [],
   "source": [
    "model = LinearRegression(fit_intercept=True)\n",
    "feature_cols = ['surface_total_in_m2']\n",
    "X=data_nuevo[feature_cols]\n",
    "y = data_nuevo.price\n",
    "\n",
    "Xtrain, Xtest, ytrain, ytest = train_test_split(X, y, random_state=1)\n",
    "model.fit(Xtrain, ytrain)\n",
    "ypred = model.predict(Xtrain)"
   ]
  },
  {
   "cell_type": "code",
   "execution_count": 55,
   "id": "5e8a67b7",
   "metadata": {},
   "outputs": [
    {
     "name": "stdout",
     "output_type": "stream",
     "text": [
      "MAE: 35200.15\n",
      "MSE: 2474210422.11\n",
      "RMSE: 49741.44\n",
      "R2: 0.77\n"
     ]
    },
    {
     "data": {
      "text/plain": [
       "0.7665136808127774"
      ]
     },
     "execution_count": 55,
     "metadata": {},
     "output_type": "execute_result"
    }
   ],
   "source": [
    "print ('MAE:', mean_absolute_error(ytrain, ypred).round(2))\n",
    "print ('MSE:', mean_squared_error(ytrain, ypred).round(2))\n",
    "print ('RMSE:', np.sqrt(mean_squared_error(ytrain, ypred)).round(2))\n",
    "print ('R2:', r2_score(ytrain, ypred).round(2))\n",
    "from sklearn.model_selection import cross_val_score\n",
    "cross_val_score(estimator=LinearRegression(), X=Xtrain, y=ytrain, cv=3).mean()"
   ]
  },
  {
   "cell_type": "code",
   "execution_count": 56,
   "id": "d8336aae",
   "metadata": {},
   "outputs": [
    {
     "data": {
      "text/plain": [
       "0.02456299178163648"
      ]
     },
     "execution_count": 56,
     "metadata": {},
     "output_type": "execute_result"
    }
   ],
   "source": [
    "cross_val_score(estimator=LinearRegression(), X=Xtrain, y=ytrain, cv=3).std()"
   ]
  },
  {
   "cell_type": "markdown",
   "id": "c8c6c531",
   "metadata": {},
   "source": [
    "**Segundo modelo: Data Palermo con superficie cubierta y descubierta**"
   ]
  },
  {
   "cell_type": "code",
   "execution_count": 57,
   "id": "b9734fdd",
   "metadata": {},
   "outputs": [
    {
     "data": {
      "text/plain": [
       "(3287, 17)"
      ]
     },
     "execution_count": 57,
     "metadata": {},
     "output_type": "execute_result"
    }
   ],
   "source": [
    "data_nuevo['surface_covered_in_m2'].isna().sum()\n",
    "data_nuevo_surface_covered=data_nuevo.dropna(subset=['surface_covered_in_m2'])\n",
    "data_nuevo_surface_covered.shape"
   ]
  },
  {
   "cell_type": "code",
   "execution_count": 58,
   "id": "9d90ece5",
   "metadata": {},
   "outputs": [
    {
     "name": "stdout",
     "output_type": "stream",
     "text": [
      "43291.62084029647\n"
     ]
    },
    {
     "data": {
      "text/plain": [
       "[('surface_covered_in_m2', 2308.4656687565775),\n",
       " ('surface_uncovered_in_m2', 1556.3296518807979)]"
      ]
     },
     "execution_count": 58,
     "metadata": {},
     "output_type": "execute_result"
    }
   ],
   "source": [
    "data_nuevo_surface_covered['surface_uncovered_in_m2']=data_nuevo_surface_covered['surface_total_in_m2']-data_nuevo_surface_covered['surface_covered_in_m2']\n",
    "feature_cols = ['surface_covered_in_m2','surface_uncovered_in_m2']\n",
    "X = data_nuevo_surface_covered[feature_cols]\n",
    "y = data_nuevo_surface_covered.price\n",
    "\n",
    "linreg = LinearRegression()\n",
    "est=linreg.fit(X, y) #modelo de toda la muestra\n",
    "\n",
    "# Imprimimos coeficientes\n",
    "print (linreg.intercept_)\n",
    "list(zip(feature_cols, linreg.coef_))"
   ]
  },
  {
   "cell_type": "code",
   "execution_count": 59,
   "id": "e46e3ca8",
   "metadata": {},
   "outputs": [
    {
     "data": {
      "text/plain": [
       "43291.62084029647"
      ]
     },
     "execution_count": 59,
     "metadata": {},
     "output_type": "execute_result"
    }
   ],
   "source": [
    "est.intercept_"
   ]
  },
  {
   "cell_type": "code",
   "execution_count": 60,
   "id": "68b0cb46",
   "metadata": {},
   "outputs": [],
   "source": [
    "X_train, X_test, y_train, y_test = train_test_split(X, y, random_state=3,shuffle=False)\n",
    "linreg = LinearRegression()\n",
    "linreg.fit(X_train, y_train)\n",
    "y_pred = linreg.predict(X_train).round(2)"
   ]
  },
  {
   "cell_type": "code",
   "execution_count": 61,
   "id": "9409aa59",
   "metadata": {},
   "outputs": [
    {
     "name": "stdout",
     "output_type": "stream",
     "text": [
      "MAE: 31474.89\n",
      "MSE: 1731395384.08\n",
      "RMSE: 41610.04\n",
      "R2: 0.82\n"
     ]
    }
   ],
   "source": [
    "print ('MAE:', mean_absolute_error(y_train, y_pred).round(2))\n",
    "print ('MSE:', mean_squared_error(y_train, y_pred).round(2))\n",
    "print ('RMSE:', np.sqrt(mean_squared_error(y_train, y_pred)).round(2))\n",
    "print ('R2:', r2_score(y_train, y_pred).round(2))"
   ]
  },
  {
   "cell_type": "code",
   "execution_count": 62,
   "id": "441eba24",
   "metadata": {},
   "outputs": [
    {
     "data": {
      "text/plain": [
       "0.8116310420355147"
      ]
     },
     "execution_count": 62,
     "metadata": {},
     "output_type": "execute_result"
    }
   ],
   "source": [
    "cross_val_score(estimator=LinearRegression(), X=X_train, y=y_train, cv=3).mean()"
   ]
  },
  {
   "cell_type": "code",
   "execution_count": 63,
   "id": "8b2d3b91",
   "metadata": {},
   "outputs": [
    {
     "data": {
      "text/plain": [
       "0.01540442829410576"
      ]
     },
     "execution_count": 63,
     "metadata": {},
     "output_type": "execute_result"
    }
   ],
   "source": [
    "cross_val_score(estimator=LinearRegression(), X=X_train, y=y_train, cv=3).std()"
   ]
  },
  {
   "cell_type": "markdown",
   "id": "805596d9",
   "metadata": {},
   "source": [
    "**ANALISIS POR STATMODELS**"
   ]
  },
  {
   "cell_type": "code",
   "execution_count": 64,
   "id": "b0583855",
   "metadata": {},
   "outputs": [
    {
     "name": "stdout",
     "output_type": "stream",
     "text": [
      "                            OLS Regression Results                            \n",
      "==============================================================================\n",
      "Dep. Variable:                  price   R-squared:                       0.780\n",
      "Model:                            OLS   Adj. R-squared:                  0.780\n",
      "Method:                 Least Squares   F-statistic:                     5828.\n",
      "Date:                Sat, 12 Mar 2022   Prob (F-statistic):               0.00\n",
      "Time:                        17:00:22   Log-Likelihood:                -40088.\n",
      "No. Observations:                3287   AIC:                         8.018e+04\n",
      "Df Residuals:                    3284   BIC:                         8.020e+04\n",
      "Df Model:                           2                                         \n",
      "Covariance Type:            nonrobust                                         \n",
      "===========================================================================================\n",
      "                              coef    std err          t      P>|t|      [0.025      0.975]\n",
      "-------------------------------------------------------------------------------------------\n",
      "const                    4.329e+04   1711.925     25.288      0.000    3.99e+04    4.66e+04\n",
      "surface_covered_in_m2    2308.4657     22.413    102.998      0.000    2264.521    2352.410\n",
      "surface_uncovered_in_m2  1556.3297     66.950     23.246      0.000    1425.062    1687.597\n",
      "==============================================================================\n",
      "Omnibus:                      781.919   Durbin-Watson:                   1.700\n",
      "Prob(Omnibus):                  0.000   Jarque-Bera (JB):            14674.664\n",
      "Skew:                          -0.640   Prob(JB):                         0.00\n",
      "Kurtosis:                      13.272   Cond. No.                         153.\n",
      "==============================================================================\n",
      "\n",
      "Notes:\n",
      "[1] Standard Errors assume that the covariance matrix of the errors is correctly specified.\n"
     ]
    }
   ],
   "source": [
    "feature_cols=['surface_covered_in_m2','surface_uncovered_in_m2']\n",
    "X=data_nuevo_surface_covered[feature_cols]\n",
    "y= data_nuevo_surface_covered.price\n",
    "X= sm.add_constant(X)\n",
    "model = sm.OLS(y, X).fit()\n",
    "print (model.summary())"
   ]
  },
  {
   "cell_type": "code",
   "execution_count": 65,
   "id": "b30db021",
   "metadata": {},
   "outputs": [
    {
     "data": {
      "text/plain": [
       "Text(0.5, 0, 'Superficie Descubierta')"
      ]
     },
     "execution_count": 65,
     "metadata": {},
     "output_type": "execute_result"
    },
    {
     "data": {
      "image/png": "[encoded data removed]",
      "text/plain": [
       "<Figure size 864x576 with 1 Axes>"
      ]
     },
     "metadata": {
      "needs_background": "light"
     },
     "output_type": "display_data"
    }
   ],
   "source": [
    "surf_cov, surf_uncov=np.meshgrid(np.linspace(data_nuevo_surface_covered.surface_covered_in_m2.min(),data_nuevo_surface_covered.surface_covered_in_m2.max(),100),np.linspace(data_nuevo_surface_covered.surface_uncovered_in_m2.min(),data_nuevo_surface_covered.surface_uncovered_in_m2.max(),100))\n",
    "Z=linreg.coef_[0]*surf_cov+linreg.coef_[1]*surf_uncov+linreg.intercept_\n",
    "fig=plt.figure(figsize=(12,8))\n",
    "from mpl_toolkits.mplot3d import Axes3D\n",
    "ax=Axes3D(fig, azim=-120,elev=0)\n",
    "surf=ax.plot_surface(surf_cov,surf_uncov,Z,cmap=plt.cm.RdBu_r,alpha=0.6)\n",
    "resid=y-model.predict(X)\n",
    "ax.scatter(X[resid>=0].surface_covered_in_m2,X[resid>=0].surface_uncovered_in_m2,y[resid>=0], color='red',alpha=1.0,facecolor='white')\n",
    "ax.scatter(X[resid<0].surface_covered_in_m2,X[resid<0].surface_uncovered_in_m2,y[resid<0], color='black',alpha=1.0,facecolor='white')\n",
    "ax.set_title('Superficie Cubierta y Descubierta',fontweight='bold',size=15)\n",
    "ax.set_zlabel('Precio en USD')\n",
    "ax.set_ylabel('Superficie Cubierta')\n",
    "ax.set_xlabel('Superficie Descubierta')"
   ]
  },
  {
   "cell_type": "markdown",
   "id": "f4479a42",
   "metadata": {},
   "source": [
    "**REGULARIZACION**"
   ]
  },
  {
   "cell_type": "markdown",
   "id": "8f3c94ad",
   "metadata": {},
   "source": [
    "**Segundo modelo: Data Palermo con superficie cubierta y descubierta con regularizacion Ridge**"
   ]
  },
  {
   "cell_type": "code",
   "execution_count": 66,
   "id": "721d2736",
   "metadata": {},
   "outputs": [
    {
     "name": "stdout",
     "output_type": "stream",
     "text": [
      "64.25768177669607 37.44946175985987\n",
      "8.095223608153331 12.53697143542111\n",
      "       const  surface_covered_in_m2  surface_uncovered_in_m2\n",
      "102      1.0                   30.0                     20.0\n",
      "103      1.0                   31.0                     11.0\n",
      "104      1.0                   38.0                      0.0\n",
      "105      1.0                   38.0                      0.0\n",
      "106      1.0                   65.0                      8.0\n",
      "...      ...                    ...                      ...\n",
      "20995    1.0                   62.0                      0.0\n",
      "20996    1.0                   36.0                      0.0\n",
      "20998    1.0                  200.0                      0.0\n",
      "20999    1.0                  132.0                      0.0\n",
      "21000    1.0                  132.0                      0.0\n",
      "\n",
      "[3287 rows x 3 columns]\n",
      "[[ 0.         -0.91491019  0.94971802]\n",
      " [ 0.         -0.88820347  0.23173207]\n",
      " [ 0.         -0.70125646 -0.64580631]\n",
      " ...\n",
      " [ 0.          3.62523158 -0.64580631]\n",
      " [ 0.          1.80917487 -0.64580631]\n",
      " [ 0.          1.80917487 -0.64580631]]\n"
     ]
    }
   ],
   "source": [
    "scaler = StandardScaler()\n",
    "print(X.surface_covered_in_m2.mean(),X.surface_covered_in_m2.std())\n",
    "print(X.surface_uncovered_in_m2.mean(),X.surface_uncovered_in_m2.std())\n",
    "X_std = scaler.fit_transform(X)\n",
    "print(X)\n",
    "print(X_std)"
   ]
  },
  {
   "cell_type": "code",
   "execution_count": 67,
   "id": "5b74a5e6",
   "metadata": {},
   "outputs": [
    {
     "name": "stdout",
     "output_type": "stream",
     "text": [
      "0.3\n",
      "0.7728810636318615\n"
     ]
    }
   ],
   "source": [
    "X_train, X_test, y_train, y_test = train_test_split(X_std, y, test_size = 0.3, random_state = 3)\n",
    "\n",
    "model_ridge_cv = linear_model.RidgeCV(alphas= [0.3, 0.5, 1.0, 1.1, 1.15, 1.17, 1.18, 1.19, 1.2, 1.21, 1.22, 1.3, 1.4, 1.5, 10.0], \n",
    "                                   fit_intercept=True, normalize=False, cv=10)\n",
    "\n",
    "model_fit_ridge_cv = model_ridge_cv.fit(X_train, y_train)\n",
    "\n",
    "print(model_fit_ridge_cv.alpha_)\n",
    "\n",
    "print(model_fit_ridge_cv.best_score_)"
   ]
  },
  {
   "cell_type": "code",
   "execution_count": 68,
   "id": "5d4c4b02",
   "metadata": {},
   "outputs": [
    {
     "name": "stdout",
     "output_type": "stream",
     "text": [
      "[    0.         84580.89615867 20935.99033117]\n",
      "204901.96106891456\n",
      "0.7743088942211567\n",
      "[[ 0.         -0.91491019 -0.40647766]\n",
      " [ 0.          1.22162711 -0.64580631]\n",
      " [ 0.          0.15335846 -0.24692523]\n",
      " ...\n",
      " [ 0.         -0.22053556 -0.40647766]\n",
      " [ 0.          2.31660248 -0.64580631]\n",
      " [ 0.          0.2067719  -0.64580631]]\n"
     ]
    }
   ],
   "source": [
    "best_alpha = model_fit_ridge_cv.alpha_\n",
    "model_ridge = linear_model.Ridge(alpha = best_alpha, fit_intercept = True, normalize = False)\n",
    "model_fit_ridge = model_ridge.fit(X_train, y_train)\n",
    "print(model_fit_ridge.coef_)\n",
    "print(model_fit_ridge.intercept_)\n",
    "print(model_fit_ridge.score(X_train, y_train))\n",
    "print(X_test)"
   ]
  },
  {
   "cell_type": "code",
   "execution_count": 69,
   "id": "4e7df524",
   "metadata": {},
   "outputs": [
    {
     "data": {
      "text/plain": [
       "0.793326726616934"
      ]
     },
     "execution_count": 69,
     "metadata": {},
     "output_type": "execute_result"
    }
   ],
   "source": [
    "model_fit_ridge.score(X_test, y_test)"
   ]
  },
  {
   "cell_type": "code",
   "execution_count": 70,
   "id": "128bfc23",
   "metadata": {},
   "outputs": [
    {
     "data": {
      "text/plain": [
       "array([119008.02516038, 294707.68240171, 212703.53313107, 439084.15886925,\n",
       "       174987.14870556, 279306.0435682 , 353931.33656414, 194632.50917694,\n",
       "       258962.60322216, 362090.59189864])"
      ]
     },
     "execution_count": 70,
     "metadata": {},
     "output_type": "execute_result"
    }
   ],
   "source": [
    "y_pred = model_fit_ridge.predict(X_test)\n",
    "y_pred[0:10]"
   ]
  },
  {
   "cell_type": "code",
   "execution_count": 71,
   "id": "0de7469f",
   "metadata": {},
   "outputs": [
    {
     "data": {
      "text/plain": [
       "9207     110000.0\n",
       "2912     205000.0\n",
       "4021     230000.0\n",
       "4331     398000.0\n",
       "9328     190000.0\n",
       "9269     350000.0\n",
       "10121    389000.0\n",
       "3367     159000.0\n",
       "2956     285000.0\n",
       "4009     395000.0\n",
       "Name: price, dtype: float64"
      ]
     },
     "execution_count": 71,
     "metadata": {},
     "output_type": "execute_result"
    }
   ],
   "source": [
    "y_test[0:10]"
   ]
  },
  {
   "cell_type": "code",
   "execution_count": 72,
   "id": "93c19f66",
   "metadata": {},
   "outputs": [
    {
     "name": "stdout",
     "output_type": "stream",
     "text": [
      "MAE: 33549.7\n",
      "MSE: 2018472087.23\n",
      "RMSE: 44927.41\n",
      "R2: 0.79\n",
      "0.7686800137756832\n"
     ]
    }
   ],
   "source": [
    "print ('MAE:', mean_absolute_error(y_test, y_pred).round(2))\n",
    "print ('MSE:', mean_squared_error(y_test, y_pred).round(2))\n",
    "print ('RMSE:', np.sqrt(mean_squared_error(y_test, y_pred)).round(2))\n",
    "print ('R2:', r2_score(y_test, y_pred).round(2))\n",
    "print(cross_val_score(estimator=linear_model.Ridge(alpha = best_alpha, fit_intercept = True, normalize = False), X=X_train, y=y_train, cv=3).mean())"
   ]
  },
  {
   "cell_type": "markdown",
   "id": "c54863be",
   "metadata": {},
   "source": [
    "**Modelo de regresion con dummies**"
   ]
  },
  {
   "cell_type": "code",
   "execution_count": 73,
   "id": "9737fdaf",
   "metadata": {},
   "outputs": [],
   "source": [
    "data_nuevo_dummies=pd.get_dummies(data_nuevo, columns=['place_name'],prefix=\"sector\")\n",
    "        "
   ]
  },
  {
   "cell_type": "code",
   "execution_count": 74,
   "id": "d40ca306",
   "metadata": {},
   "outputs": [
    {
     "data": {
      "text/html": [
       "<div>\n",
       "<style scoped>\n",
       "    .dataframe tbody tr th:only-of-type {\n",
       "        vertical-align: middle;\n",
       "    }\n",
       "\n",
       "    .dataframe tbody tr th {\n",
       "        vertical-align: top;\n",
       "    }\n",
       "\n",
       "    .dataframe thead th {\n",
       "        text-align: right;\n",
       "    }\n",
       "</style>\n",
       "<table border=\"1\" class=\"dataframe\">\n",
       "  <thead>\n",
       "    <tr style=\"text-align: right;\">\n",
       "      <th></th>\n",
       "      <th>Unnamed: 0</th>\n",
       "      <th>property_type</th>\n",
       "      <th>state_name</th>\n",
       "      <th>price</th>\n",
       "      <th>currency</th>\n",
       "      <th>surface_total_in_m2</th>\n",
       "      <th>surface_covered_in_m2</th>\n",
       "      <th>price_usd_per_m2</th>\n",
       "      <th>place_name_2</th>\n",
       "      <th>floor</th>\n",
       "      <th>...</th>\n",
       "      <th>regex2</th>\n",
       "      <th>direccion</th>\n",
       "      <th>above_mean</th>\n",
       "      <th>sector_Barrio Norte</th>\n",
       "      <th>sector_Palermo</th>\n",
       "      <th>sector_Palermo Chico</th>\n",
       "      <th>sector_Palermo Hollywood</th>\n",
       "      <th>sector_Palermo Soho</th>\n",
       "      <th>sector_Recoleta</th>\n",
       "      <th>sector_Retiro</th>\n",
       "    </tr>\n",
       "  </thead>\n",
       "  <tbody>\n",
       "    <tr>\n",
       "      <th>102</th>\n",
       "      <td>13</td>\n",
       "      <td>apartment</td>\n",
       "      <td>Capital Federal</td>\n",
       "      <td>111700.0</td>\n",
       "      <td>USD</td>\n",
       "      <td>50.0</td>\n",
       "      <td>30.0</td>\n",
       "      <td>2234.000000</td>\n",
       "      <td>Palermo Soho</td>\n",
       "      <td>NaN</td>\n",
       "      <td>...</td>\n",
       "      <td>NaN</td>\n",
       "      <td>NaN</td>\n",
       "      <td>0.0</td>\n",
       "      <td>0</td>\n",
       "      <td>0</td>\n",
       "      <td>0</td>\n",
       "      <td>0</td>\n",
       "      <td>1</td>\n",
       "      <td>0</td>\n",
       "      <td>0</td>\n",
       "    </tr>\n",
       "    <tr>\n",
       "      <th>103</th>\n",
       "      <td>14</td>\n",
       "      <td>apartment</td>\n",
       "      <td>Capital Federal</td>\n",
       "      <td>147900.0</td>\n",
       "      <td>USD</td>\n",
       "      <td>42.0</td>\n",
       "      <td>31.0</td>\n",
       "      <td>3521.428571</td>\n",
       "      <td>Palermo Soho</td>\n",
       "      <td>NaN</td>\n",
       "      <td>...</td>\n",
       "      <td>NaN</td>\n",
       "      <td>NaN</td>\n",
       "      <td>0.0</td>\n",
       "      <td>0</td>\n",
       "      <td>0</td>\n",
       "      <td>0</td>\n",
       "      <td>0</td>\n",
       "      <td>1</td>\n",
       "      <td>0</td>\n",
       "      <td>0</td>\n",
       "    </tr>\n",
       "    <tr>\n",
       "      <th>104</th>\n",
       "      <td>1631</td>\n",
       "      <td>apartment</td>\n",
       "      <td>Capital Federal</td>\n",
       "      <td>90000.0</td>\n",
       "      <td>USD</td>\n",
       "      <td>38.0</td>\n",
       "      <td>38.0</td>\n",
       "      <td>2368.421053</td>\n",
       "      <td>Palermo Soho</td>\n",
       "      <td>NaN</td>\n",
       "      <td>...</td>\n",
       "      <td>exclusivo</td>\n",
       "      <td>NaN</td>\n",
       "      <td>0.0</td>\n",
       "      <td>0</td>\n",
       "      <td>0</td>\n",
       "      <td>0</td>\n",
       "      <td>0</td>\n",
       "      <td>1</td>\n",
       "      <td>0</td>\n",
       "      <td>0</td>\n",
       "    </tr>\n",
       "    <tr>\n",
       "      <th>105</th>\n",
       "      <td>4335</td>\n",
       "      <td>apartment</td>\n",
       "      <td>Capital Federal</td>\n",
       "      <td>95000.0</td>\n",
       "      <td>USD</td>\n",
       "      <td>38.0</td>\n",
       "      <td>38.0</td>\n",
       "      <td>2500.000000</td>\n",
       "      <td>Palermo Soho</td>\n",
       "      <td>NaN</td>\n",
       "      <td>...</td>\n",
       "      <td>exclusivo</td>\n",
       "      <td>NaN</td>\n",
       "      <td>0.0</td>\n",
       "      <td>0</td>\n",
       "      <td>0</td>\n",
       "      <td>0</td>\n",
       "      <td>0</td>\n",
       "      <td>1</td>\n",
       "      <td>0</td>\n",
       "      <td>0</td>\n",
       "    </tr>\n",
       "    <tr>\n",
       "      <th>106</th>\n",
       "      <td>5434</td>\n",
       "      <td>apartment</td>\n",
       "      <td>Capital Federal</td>\n",
       "      <td>218000.0</td>\n",
       "      <td>USD</td>\n",
       "      <td>73.0</td>\n",
       "      <td>65.0</td>\n",
       "      <td>2986.301370</td>\n",
       "      <td>Palermo Soho</td>\n",
       "      <td>NaN</td>\n",
       "      <td>...</td>\n",
       "      <td>NaN</td>\n",
       "      <td>NaN</td>\n",
       "      <td>1.0</td>\n",
       "      <td>0</td>\n",
       "      <td>0</td>\n",
       "      <td>0</td>\n",
       "      <td>0</td>\n",
       "      <td>1</td>\n",
       "      <td>0</td>\n",
       "      <td>0</td>\n",
       "    </tr>\n",
       "  </tbody>\n",
       "</table>\n",
       "<p>5 rows × 23 columns</p>\n",
       "</div>"
      ],
      "text/plain": [
       "     Unnamed: 0 property_type       state_name     price currency  \\\n",
       "102          13     apartment  Capital Federal  111700.0      USD   \n",
       "103          14     apartment  Capital Federal  147900.0      USD   \n",
       "104        1631     apartment  Capital Federal   90000.0      USD   \n",
       "105        4335     apartment  Capital Federal   95000.0      USD   \n",
       "106        5434     apartment  Capital Federal  218000.0      USD   \n",
       "\n",
       "     surface_total_in_m2  surface_covered_in_m2  price_usd_per_m2  \\\n",
       "102                 50.0                   30.0       2234.000000   \n",
       "103                 42.0                   31.0       3521.428571   \n",
       "104                 38.0                   38.0       2368.421053   \n",
       "105                 38.0                   38.0       2500.000000   \n",
       "106                 73.0                   65.0       2986.301370   \n",
       "\n",
       "     place_name_2  floor  ...     regex2  direccion above_mean  \\\n",
       "102  Palermo Soho    NaN  ...        NaN        NaN        0.0   \n",
       "103  Palermo Soho    NaN  ...        NaN        NaN        0.0   \n",
       "104  Palermo Soho    NaN  ...  exclusivo        NaN        0.0   \n",
       "105  Palermo Soho    NaN  ...  exclusivo        NaN        0.0   \n",
       "106  Palermo Soho    NaN  ...        NaN        NaN        1.0   \n",
       "\n",
       "    sector_Barrio Norte sector_Palermo  sector_Palermo Chico  \\\n",
       "102                   0              0                     0   \n",
       "103                   0              0                     0   \n",
       "104                   0              0                     0   \n",
       "105                   0              0                     0   \n",
       "106                   0              0                     0   \n",
       "\n",
       "     sector_Palermo Hollywood  sector_Palermo Soho  sector_Recoleta  \\\n",
       "102                         0                    1                0   \n",
       "103                         0                    1                0   \n",
       "104                         0                    1                0   \n",
       "105                         0                    1                0   \n",
       "106                         0                    1                0   \n",
       "\n",
       "     sector_Retiro  \n",
       "102              0  \n",
       "103              0  \n",
       "104              0  \n",
       "105              0  \n",
       "106              0  \n",
       "\n",
       "[5 rows x 23 columns]"
      ]
     },
     "execution_count": 74,
     "metadata": {},
     "output_type": "execute_result"
    }
   ],
   "source": [
    "data_nuevo_dummies.head()"
   ]
  },
  {
   "cell_type": "code",
   "execution_count": 75,
   "id": "b81dadd7",
   "metadata": {},
   "outputs": [
    {
     "data": {
      "text/plain": [
       "3485"
      ]
     },
     "execution_count": 75,
     "metadata": {},
     "output_type": "execute_result"
    }
   ],
   "source": [
    "data_nuevo_dummies.shape[0]"
   ]
  },
  {
   "cell_type": "code",
   "execution_count": 76,
   "id": "90291ead",
   "metadata": {},
   "outputs": [
    {
     "name": "stdout",
     "output_type": "stream",
     "text": [
      "36386.7042426017\n",
      "['surface_total_in_m2', 'sector_Palermo', 'sector_Palermo Chico', 'sector_Palermo Hollywood', 'sector_Palermo Soho', 'sector_Recoleta', 'sector_Retiro']\n",
      "[  2235.37802247   8145.26261564  42302.17734857   5117.14349481\n",
      "  -4908.35017777  15870.30058005 -15349.98976319]\n"
     ]
    }
   ],
   "source": [
    "feature_cols = ['surface_total_in_m2', 'sector_Palermo','sector_Palermo Chico', 'sector_Palermo Hollywood', 'sector_Palermo Soho','sector_Recoleta','sector_Retiro']\n",
    "X = data_nuevo_dummies[feature_cols]\n",
    "y = data_nuevo_dummies.price\n",
    "linreg = LinearRegression(fit_intercept=True)\n",
    "linreg.fit(X, y)\n",
    "print (linreg.intercept_)\n",
    "\n",
    "Coef_Dummies=pd.Series(list(zip(feature_cols, linreg.coef_)))\n",
    "type(Coef_Dummies)\n",
    "print(feature_cols)\n",
    "print(linreg.coef_)"
   ]
  },
  {
   "cell_type": "markdown",
   "id": "d2674fbd",
   "metadata": {},
   "source": [
    "## ESTE GRAFICO NECESITA QUE DIGA EL VALOR EXACTO EN LA PUNTA DE LA COLUMNA"
   ]
  },
  {
   "cell_type": "code",
   "execution_count": 77,
   "id": "3a80d4a8",
   "metadata": {},
   "outputs": [
    {
     "data": {
      "text/plain": [
       "Text(0.5, 1.0, 'Coeficientes de regresion con dummies segun place_name')"
      ]
     },
     "execution_count": 77,
     "metadata": {},
     "output_type": "execute_result"
    },
    {
     "data": {
      "image/png": "[encoded data removed]",
      "text/plain": [
       "<Figure size 576x360 with 1 Axes>"
      ]
     },
     "metadata": {
      "needs_background": "light"
     },
     "output_type": "display_data"
    }
   ],
   "source": [
    "fig=plt.figure(figsize=(8,5))\n",
    "plt.bar(feature_cols[1:7],linreg.coef_[1:7], color='red')\n",
    "plt.xticks(rotation=30);\n",
    "plt.title('Coeficientes de regresion con dummies segun place_name',fontweight='bold',size=12)\n"
   ]
  },
  {
   "cell_type": "code",
   "execution_count": 78,
   "id": "39c036b8",
   "metadata": {},
   "outputs": [],
   "source": [
    "X_train, X_test, y_train, y_test = train_test_split(X, y, random_state=3, shuffle=False)\n",
    "linreg = LinearRegression(fit_intercept=True)\n",
    "linreg.fit(X_train, y_train)\n",
    "y_pred = linreg.predict(X_train)"
   ]
  },
  {
   "cell_type": "code",
   "execution_count": 79,
   "id": "d7016bcd",
   "metadata": {},
   "outputs": [
    {
     "name": "stdout",
     "output_type": "stream",
     "text": [
      "MAE: 31352.47\n",
      "MSE: 1751517556.4\n",
      "RMSE: 41851.14\n",
      "R2: 0.82\n"
     ]
    }
   ],
   "source": [
    "print ('MAE:', mean_absolute_error(y_train, y_pred).round(2))\n",
    "print ('MSE:', mean_squared_error(y_train, y_pred).round(2))\n",
    "print ('RMSE:', np.sqrt(mean_squared_error(y_train, y_pred)).round(2))\n",
    "print ('R2:', r2_score(y_train, y_pred).round(2))"
   ]
  },
  {
   "cell_type": "code",
   "execution_count": 80,
   "id": "63cef8bb",
   "metadata": {},
   "outputs": [
    {
     "data": {
      "text/plain": [
       "0.8054720896691828"
      ]
     },
     "execution_count": 80,
     "metadata": {},
     "output_type": "execute_result"
    }
   ],
   "source": [
    "cross_val_score(estimator=LinearRegression(), X=X_train, y=y_train, cv=4).mean()"
   ]
  },
  {
   "cell_type": "code",
   "execution_count": 81,
   "id": "fc91bc82",
   "metadata": {},
   "outputs": [
    {
     "data": {
      "text/plain": [
       "0.018991470020855692"
      ]
     },
     "execution_count": 81,
     "metadata": {},
     "output_type": "execute_result"
    }
   ],
   "source": [
    "cross_val_score(estimator=LinearRegression(), X=X_train, y=y_train, cv=4).std()"
   ]
  },
  {
   "cell_type": "code",
   "execution_count": 82,
   "id": "10d9e76e",
   "metadata": {},
   "outputs": [
    {
     "name": "stdout",
     "output_type": "stream",
     "text": [
      "                            OLS Regression Results                            \n",
      "==============================================================================\n",
      "Dep. Variable:                  price   R-squared:                       0.819\n",
      "Model:                            OLS   Adj. R-squared:                  0.818\n",
      "Method:                 Least Squares   F-statistic:                     1959.\n",
      "Date:                Sat, 12 Mar 2022   Prob (F-statistic):               0.00\n",
      "Time:                        17:00:23   Log-Likelihood:                -31515.\n",
      "No. Observations:                2613   AIC:                         6.304e+04\n",
      "Df Residuals:                    2606   BIC:                         6.308e+04\n",
      "Df Model:                           6                                         \n",
      "Covariance Type:            nonrobust                                         \n",
      "============================================================================================\n",
      "                               coef    std err          t      P>|t|      [0.025      0.975]\n",
      "--------------------------------------------------------------------------------------------\n",
      "const                     2.112e+04   2429.335      8.692      0.000    1.64e+04    2.59e+04\n",
      "surface_total_in_m2       2436.0774     23.238    104.834      0.000    2390.511    2481.643\n",
      "sector_Palermo            4732.0083   2347.802      2.016      0.044     128.263    9335.754\n",
      "sector_Palermo Chico      4.353e+04   6606.460      6.590      0.000    3.06e+04    5.65e+04\n",
      "sector_Palermo Hollywood  1.225e+04   2816.472      4.350      0.000    6729.894    1.78e+04\n",
      "sector_Palermo Soho       3933.1016   3267.707      1.204      0.229   -2474.463    1.03e+04\n",
      "sector_Recoleta           1.542e+04   2296.510      6.713      0.000    1.09e+04    1.99e+04\n",
      "sector_Retiro                     0          0        nan        nan           0           0\n",
      "==============================================================================\n",
      "Omnibus:                       99.061   Durbin-Watson:                   1.743\n",
      "Prob(Omnibus):                  0.000   Jarque-Bera (JB):              244.086\n",
      "Skew:                           0.179   Prob(JB):                     9.94e-54\n",
      "Kurtosis:                       4.454   Cond. No.                          inf\n",
      "==============================================================================\n",
      "\n",
      "Notes:\n",
      "[1] Standard Errors assume that the covariance matrix of the errors is correctly specified.\n",
      "[2] The smallest eigenvalue is      0. This might indicate that there are\n",
      "strong multicollinearity problems or that the design matrix is singular.\n"
     ]
    }
   ],
   "source": [
    "feature_cols = ['surface_total_in_m2', 'sector_Palermo','sector_Palermo Chico', 'sector_Palermo Hollywood', 'sector_Palermo Soho','sector_Recoleta','sector_Retiro']\n",
    "X = X_train[feature_cols]\n",
    "y = y_train\n",
    "X= sm.add_constant(X)\n",
    "model = sm.OLS(y, X).fit()\n",
    "print (model.summary())"
   ]
  },
  {
   "cell_type": "code",
   "execution_count": null,
   "id": "f0b24f65",
   "metadata": {},
   "outputs": [],
   "source": []
  },
  {
   "cell_type": "code",
   "execution_count": null,
   "id": "44c150cd",
   "metadata": {},
   "outputs": [],
   "source": []
  },
  {
   "cell_type": "code",
   "execution_count": null,
   "id": "e45c1408",
   "metadata": {},
   "outputs": [],
   "source": []
  },
  {
   "cell_type": "code",
   "execution_count": null,
   "id": "d39138b1",
   "metadata": {},
   "outputs": [],
   "source": []
  }
 ],
 "metadata": {
  "kernelspec": {
   "display_name": "Python [conda env:dhdsblend2021] *",
   "language": "python",
   "name": "conda-env-dhdsblend2021-py"
  },
  "language_info": {
   "codemirror_mode": {
    "name": "ipython",
    "version": 3
   },
   "file_extension": ".py",
   "mimetype": "text/x-python",
   "name": "python",
   "nbconvert_exporter": "python",
   "pygments_lexer": "ipython3",
   "version": "3.8.12"
  }
 },
 "nbformat": 4,
 "nbformat_minor": 5
}
